{
 "cells": [
  {
   "cell_type": "markdown",
   "metadata": {},
   "source": [
    "# Antes de empezar:\n",
    "Lee el archivo README.md <p>\n",
    "Comenta todo lo que puedas y utiliza los recursos del archivo README.md\n",
    "¡Feliz aprendizaje!"
   ]
  },
  {
   "cell_type": "code",
   "execution_count": 1,
   "metadata": {},
   "outputs": [],
   "source": [
    "# Import your libraries:\n",
    "import pandas as pd\n",
    "from sklearn.datasets import load_diabetes"
   ]
  },
  {
   "cell_type": "markdown",
   "metadata": {},
   "source": [
    "# Reto 1 - Explorar los conjuntos de datos de Scikit-Learn\n",
    "\n",
    "Antes de empezar a trabajar con nuestros propios conjuntos de datos, exploremos primero los conjuntos de datos incluidos en esta biblioteca de Python. Estos conjuntos de datos se han limpiado y formateado para su uso en algoritmos de ML."
   ]
  },
  {
   "cell_type": "markdown",
   "metadata": {},
   "source": [
    "En primer lugar, cargaremos el conjunto de datos de la diabetes. Hazlo en la celda de abajo importando los conjuntos de datos y luego cargando el conjunto de datos en la `diabetes` utilizando la función `load_diabetes()`."
   ]
  },
  {
   "cell_type": "code",
   "execution_count": 4,
   "metadata": {},
   "outputs": [
    {
     "name": "stdout",
     "output_type": "stream",
     "text": [
      "Conjuntos de datos disponibles en sklearn.datasets:\n",
      "load_breast_cancer\n",
      "load_diabetes\n",
      "load_digits\n",
      "load_files\n",
      "load_iris\n",
      "load_linnerud\n",
      "load_sample_image\n",
      "load_sample_images\n",
      "load_svmlight_file\n",
      "load_svmlight_files\n",
      "load_wine\n"
     ]
    }
   ],
   "source": [
    "\n",
    "from sklearn import datasets\n",
    "available_datasets = dir(datasets)\n",
    "loadable_datasets = [dataset for dataset in available_datasets if 'load_' in dataset]\n",
    "\n",
    "print(\"Conjuntos de datos disponibles en sklearn.datasets:\")\n",
    "for dataset in loadable_datasets:\n",
    "    print(dataset)"
   ]
  },
  {
   "cell_type": "code",
   "execution_count": 5,
   "metadata": {},
   "outputs": [],
   "source": [
    "diabetes = load_diabetes()"
   ]
  },
  {
   "cell_type": "markdown",
   "metadata": {},
   "source": [
    "Vamos a explorar esta variable observando los diferentes atributos. Para ello, mira las `keys()` de esta variable."
   ]
  },
  {
   "cell_type": "code",
   "execution_count": 9,
   "metadata": {},
   "outputs": [
    {
     "data": {
      "text/plain": [
       "dict_keys(['data', 'target', 'frame', 'DESCR', 'feature_names', 'data_filename', 'target_filename', 'data_module'])"
      ]
     },
     "execution_count": 9,
     "metadata": {},
     "output_type": "execute_result"
    }
   ],
   "source": [
    "diabetes.keys()"
   ]
  },
  {
   "cell_type": "markdown",
   "metadata": {},
   "source": [
    "El siguiente paso es leer la descripción del conjunto de datos. Imprima la descripción en la celda siguiente utilizando el atributo `DESCR` de la variable `diabetes`"
   ]
  },
  {
   "cell_type": "code",
   "execution_count": 13,
   "metadata": {
    "scrolled": false
   },
   "outputs": [
    {
     "name": "stdout",
     "output_type": "stream",
     "text": [
      ".. _diabetes_dataset:\n",
      "\n",
      "Diabetes dataset\n",
      "----------------\n",
      "\n",
      "Ten baseline variables, age, sex, body mass index, average blood\n",
      "pressure, and six blood serum measurements were obtained for each of n =\n",
      "442 diabetes patients, as well as the response of interest, a\n",
      "quantitative measure of disease progression one year after baseline.\n",
      "\n",
      "**Data Set Characteristics:**\n",
      "\n",
      ":Number of Instances: 442\n",
      "\n",
      ":Number of Attributes: First 10 columns are numeric predictive values\n",
      "\n",
      ":Target: Column 11 is a quantitative measure of disease progression one year after baseline\n",
      "\n",
      ":Attribute Information:\n",
      "    - age     age in years\n",
      "    - sex\n",
      "    - bmi     body mass index\n",
      "    - bp      average blood pressure\n",
      "    - s1      tc, total serum cholesterol\n",
      "    - s2      ldl, low-density lipoproteins\n",
      "    - s3      hdl, high-density lipoproteins\n",
      "    - s4      tch, total cholesterol / HDL\n",
      "    - s5      ltg, possibly log of serum triglycerides level\n",
      "    - s6      glu, blood sugar level\n",
      "\n",
      "Note: Each of these 10 feature variables have been mean centered and scaled by the standard deviation times the square root of `n_samples` (i.e. the sum of squares of each column totals 1).\n",
      "\n",
      "Source URL:\n",
      "https://www4.stat.ncsu.edu/~boos/var.select/diabetes.html\n",
      "\n",
      "For more information see:\n",
      "Bradley Efron, Trevor Hastie, Iain Johnstone and Robert Tibshirani (2004) \"Least Angle Regression,\" Annals of Statistics (with discussion), 407-499.\n",
      "(https://web.stanford.edu/~hastie/Papers/LARS/LeastAngle_2002.pdf)\n",
      "\n"
     ]
    }
   ],
   "source": [
    "print(diabetes.DESCR)"
   ]
  },
  {
   "cell_type": "markdown",
   "metadata": {},
   "source": [
    "¿Cuáles son las variables de este conjunto de datos según la descripción? Enuméralas en la celda markdown siguiente"
   ]
  },
  {
   "cell_type": "markdown",
   "metadata": {},
   "source": [
    "   - age     age in years\n",
    "      - sex\n",
    "      - bmi     body mass index\n",
    "      - bp      average blood pressure\n",
    "      - s1      tc, total serum cholesterol\n",
    "      - s2      ldl, low-density lipoproteins\n",
    "      - s3      hdl, high-density lipoproteins\n",
    "      - s4      tch, total cholesterol / HDL\n",
    "      - s5      ltg, possibly log of serum triglycerides level\n",
    "      - s6      glu, blood sugar level"
   ]
  },
  {
   "cell_type": "markdown",
   "metadata": {},
   "source": [
    "#### Introduzca aquí su respuesta:\n",
    "\n",
    "edad, sexo, índice de masa corporal, tensión arterial media, s1, s2, s3, s4, s5, s6"
   ]
  },
  {
   "cell_type": "markdown",
   "metadata": {},
   "source": [
    "Ahora explora los datos. Scikit-learn normalmente toma arrays numpy 2D como entrada (aunque también se aceptan dataframes pandas). En la celda de abajo encuentra la forma del array numpy contenido en la parte de datos de la variable diabetes."
   ]
  },
  {
   "cell_type": "code",
   "execution_count": 14,
   "metadata": {},
   "outputs": [
    {
     "name": "stdout",
     "output_type": "stream",
     "text": [
      "(442, 10)\n"
     ]
    }
   ],
   "source": [
    "print(diabetes.data.shape)\n",
    "#442 muestras y 10 características"
   ]
  },
  {
   "cell_type": "markdown",
   "metadata": {},
   "source": [
    "# Reto 2 - Realizar aprendizaje supervisado en el conjunto de datos"
   ]
  },
  {
   "cell_type": "markdown",
   "metadata": {},
   "source": [
    "#### Los datos ya se han dividido en variables predictoras y de respuesta. La variable de respuesta se encuentra en la parte «objetivo» de la variable. \n",
    "\n",
    "Dada esta información, vamos a aplicar lo que hemos aprendido previamente sobre regresión lineal y aplicar el algoritmo al conjunto de datos de la diabetes. En la celda de abajo, importa la clase de regresión lineal de sklearn. "
   ]
  },
  {
   "cell_type": "code",
   "execution_count": 15,
   "metadata": {},
   "outputs": [],
   "source": [
    "from sklearn.linear_model import LinearRegression"
   ]
  },
  {
   "cell_type": "markdown",
   "metadata": {},
   "source": [
    "Inicializar el modelo en la variable `diabetes_model`."
   ]
  },
  {
   "cell_type": "code",
   "execution_count": 16,
   "metadata": {},
   "outputs": [],
   "source": [
    "diabetes_model = LinearRegression()"
   ]
  },
  {
   "cell_type": "markdown",
   "metadata": {},
   "source": [
    "En la celda de abajo, ajusta el modelo e imprime el intercepto y los coeficientes del modelo."
   ]
  },
  {
   "cell_type": "code",
   "execution_count": 17,
   "metadata": {},
   "outputs": [
    {
     "name": "stdout",
     "output_type": "stream",
     "text": [
      "Intercepto: 152.13348416289597\n",
      "Coeficientes:\n",
      "age: -10.009866299810438\n",
      "sex: -239.81564367242342\n",
      "bmi: 519.8459200544607\n",
      "bp: 324.3846455023231\n",
      "s1: -792.1756385522303\n",
      "s2: 476.73902100525714\n",
      "s3: 101.04326793803412\n",
      "s4: 177.06323767134637\n",
      "s5: 751.2736995571034\n",
      "s6: 67.62669218370495\n"
     ]
    }
   ],
   "source": [
    "X = diabetes.data\n",
    "y = diabetes.target\n",
    "\n",
    "diabetes_model.fit(X, y)\n",
    "\n",
    "intercept = diabetes_model.intercept_\n",
    "coefficients = diabetes_model.coef_\n",
    "\n",
    "print(\"Intercepto:\", intercept)\n",
    "print(\"Coeficientes:\")\n",
    "for feature, coef in zip(diabetes.feature_names, coefficients):\n",
    "    print(f\"{feature}: {coef}\")"
   ]
  },
  {
   "attachments": {
    "image.png": {
     "image/png": "[encoded data removed]"
    }
   },
   "cell_type": "markdown",
   "metadata": {},
   "source": [
    "# Reto bonus 1 - Realizar una prueba de hipótesis sobre el modelo\n",
    "\n",
    "Una vez que hemos generado un modelo lineal, podemos probar cada coeficiente utilizando una prueba t para ver si el intervalo de confianza de la variable contiene cero. También podemos realizar una prueba F global para comprobar si al menos un coeficiente es significativamente distinto de cero. \n",
    "\n",
    "Consulte el recurso en este [enlace](https://onlinecourses.science.psu.edu/stat501/node/297/) para obtener más detalles y realice las pruebas t para el modelo anterior. Además, interprete los resultados y enumere los coeficientes que son significativamente diferentes de cero.\n",
    "\n",
    "\n",
    "Sugerencia: utilice el paquete statsmodels.\n",
    "\n",
    "Su resultado debería ser similar al siguiente\n",
    "\n",
    "![image.png](attachment:image.png)"
   ]
  },
  {
   "cell_type": "code",
   "execution_count": 20,
   "metadata": {},
   "outputs": [
    {
     "name": "stdout",
     "output_type": "stream",
     "text": [
      "[[ 0.03807591  0.05068012  0.06169621 ... -0.00259226  0.01990749\n",
      "  -0.01764613]\n",
      " [-0.00188202 -0.04464164 -0.05147406 ... -0.03949338 -0.06833155\n",
      "  -0.09220405]\n",
      " [ 0.08529891  0.05068012  0.04445121 ... -0.00259226  0.00286131\n",
      "  -0.02593034]\n",
      " ...\n",
      " [ 0.04170844  0.05068012 -0.01590626 ... -0.01107952 -0.04688253\n",
      "   0.01549073]\n",
      " [-0.04547248 -0.04464164  0.03906215 ...  0.02655962  0.04452873\n",
      "  -0.02593034]\n",
      " [-0.04547248 -0.04464164 -0.0730303  ... -0.03949338 -0.00422151\n",
      "   0.00306441]]\n"
     ]
    }
   ],
   "source": [
    "print(diabetes.data)"
   ]
  },
  {
   "cell_type": "code",
   "execution_count": 19,
   "metadata": {},
   "outputs": [
    {
     "name": "stdout",
     "output_type": "stream",
     "text": [
      "                            OLS Regression Results                            \n",
      "==============================================================================\n",
      "Dep. Variable:                      y   R-squared:                       0.518\n",
      "Model:                            OLS   Adj. R-squared:                  0.507\n",
      "Method:                 Least Squares   F-statistic:                     46.27\n",
      "Date:                Thu, 18 Jul 2024   Prob (F-statistic):           3.83e-62\n",
      "Time:                        18:33:14   Log-Likelihood:                -2386.0\n",
      "No. Observations:                 442   AIC:                             4794.\n",
      "Df Residuals:                     431   BIC:                             4839.\n",
      "Df Model:                          10                                         \n",
      "Covariance Type:            nonrobust                                         \n",
      "==============================================================================\n",
      "                 coef    std err          t      P>|t|      [0.025      0.975]\n",
      "------------------------------------------------------------------------------\n",
      "const        152.1335      2.576     59.061      0.000     147.071     157.196\n",
      "x1           -10.0099     59.749     -0.168      0.867    -127.446     107.426\n",
      "x2          -239.8156     61.222     -3.917      0.000    -360.147    -119.484\n",
      "x3           519.8459     66.533      7.813      0.000     389.076     650.616\n",
      "x4           324.3846     65.422      4.958      0.000     195.799     452.970\n",
      "x5          -792.1756    416.680     -1.901      0.058   -1611.153      26.802\n",
      "x6           476.7390    339.030      1.406      0.160    -189.620    1143.098\n",
      "x7           101.0433    212.531      0.475      0.635    -316.684     518.770\n",
      "x8           177.0632    161.476      1.097      0.273    -140.315     494.441\n",
      "x9           751.2737    171.900      4.370      0.000     413.407    1089.140\n",
      "x10           67.6267     65.984      1.025      0.306     -62.064     197.318\n",
      "==============================================================================\n",
      "Omnibus:                        1.506   Durbin-Watson:                   2.029\n",
      "Prob(Omnibus):                  0.471   Jarque-Bera (JB):                1.404\n",
      "Skew:                           0.017   Prob(JB):                        0.496\n",
      "Kurtosis:                       2.726   Cond. No.                         227.\n",
      "==============================================================================\n",
      "\n",
      "Notes:\n",
      "[1] Standard Errors assume that the covariance matrix of the errors is correctly specified.\n"
     ]
    },
    {
     "data": {
      "text/html": [
       "<div>\n",
       "<style scoped>\n",
       "    .dataframe tbody tr th:only-of-type {\n",
       "        vertical-align: middle;\n",
       "    }\n",
       "\n",
       "    .dataframe tbody tr th {\n",
       "        vertical-align: top;\n",
       "    }\n",
       "\n",
       "    .dataframe thead th {\n",
       "        text-align: right;\n",
       "    }\n",
       "</style>\n",
       "<table border=\"1\" class=\"dataframe\">\n",
       "  <thead>\n",
       "    <tr style=\"text-align: right;\">\n",
       "      <th></th>\n",
       "      <th>Coefficient</th>\n",
       "      <th>P-Value</th>\n",
       "    </tr>\n",
       "  </thead>\n",
       "  <tbody>\n",
       "    <tr>\n",
       "      <th>0</th>\n",
       "      <td>152.133484</td>\n",
       "      <td>1.010082e-208</td>\n",
       "    </tr>\n",
       "    <tr>\n",
       "      <th>2</th>\n",
       "      <td>-239.815644</td>\n",
       "      <td>1.041671e-04</td>\n",
       "    </tr>\n",
       "    <tr>\n",
       "      <th>3</th>\n",
       "      <td>519.845920</td>\n",
       "      <td>4.296391e-14</td>\n",
       "    </tr>\n",
       "    <tr>\n",
       "      <th>4</th>\n",
       "      <td>324.384646</td>\n",
       "      <td>1.024278e-06</td>\n",
       "    </tr>\n",
       "    <tr>\n",
       "      <th>9</th>\n",
       "      <td>751.273700</td>\n",
       "      <td>1.555899e-05</td>\n",
       "    </tr>\n",
       "  </tbody>\n",
       "</table>\n",
       "</div>"
      ],
      "text/plain": [
       "   Coefficient        P-Value\n",
       "0   152.133484  1.010082e-208\n",
       "2  -239.815644   1.041671e-04\n",
       "3   519.845920   4.296391e-14\n",
       "4   324.384646   1.024278e-06\n",
       "9   751.273700   1.555899e-05"
      ]
     },
     "execution_count": 19,
     "metadata": {},
     "output_type": "execute_result"
    }
   ],
   "source": [
    "import numpy as np\n",
    "import statsmodels.api as sm\n",
    "# Añadir una constante a las variables predictoras\n",
    "X = sm.add_constant(diabetes.data)\n",
    "\n",
    "# Crear el modelo OLS (Ordinary Least Squares)\n",
    "model = sm.OLS(y, X)\n",
    "\n",
    "# Ajustar el modelo\n",
    "results = model.fit()\n",
    "\n",
    "# Imprimir el resumen del modelo\n",
    "print(results.summary())\n",
    "\n",
    "# Interpretación de los resultados:\n",
    "# - El coeficiente de cada variable se considera significativamente diferente de cero\n",
    "#   si el valor p (P>|t|) es menor que el nivel de significancia (por ejemplo, 0.05).\n",
    "\n",
    "# Extraer los coeficientes y sus valores p\n",
    "coef_p_values = pd.DataFrame({\n",
    "    'Coefficient': results.params,\n",
    "    'P-Value': results.pvalues\n",
    "})\n",
    "\n",
    "# Filtrar los coeficientes significativamente diferentes de cero\n",
    "significant_coef = coef_p_values[coef_p_values['P-Value'] < 0.05]\n",
    "\n",
    "significant_coef"
   ]
  },
  {
   "cell_type": "markdown",
   "metadata": {},
   "source": [
    "# Reto 3 - Realizar aprendizaje supervisado en un marco de datos Pandas"
   ]
  },
  {
   "cell_type": "markdown",
   "metadata": {},
   "source": [
    "Ahora que hemos visto los datos que han sido formateados para scikit-learn, vamos a ver los datos que tendremos que formatear nosotros mismos.\n",
    "\n",
    "En la siguiente celda, cargue el archivo `auto-mpg.csv` incluido en esta carpeta y asígnalo a una variable llamada `auto`."
   ]
  },
  {
   "cell_type": "code",
   "execution_count": 24,
   "metadata": {},
   "outputs": [],
   "source": [
    "auto = pd.read_csv('../auto-mpg.csv')\n",
    "\n",
    "\n"
   ]
  },
  {
   "cell_type": "markdown",
   "metadata": {},
   "source": [
    "Mira las 5 primeras filas usando la función `head()`:"
   ]
  },
  {
   "cell_type": "code",
   "execution_count": 25,
   "metadata": {},
   "outputs": [
    {
     "name": "stdout",
     "output_type": "stream",
     "text": [
      "    mpg  cylinders  displacement  horse_power  weight  acceleration  \\\n",
      "0  18.0          8         307.0        130.0    3504          12.0   \n",
      "1  15.0          8         350.0        165.0    3693          11.5   \n",
      "2  18.0          8         318.0        150.0    3436          11.0   \n",
      "3  16.0          8         304.0        150.0    3433          12.0   \n",
      "4  17.0          8         302.0        140.0    3449          10.5   \n",
      "\n",
      "   model_year                       car_name  \n",
      "0          70  \\t\"chevrolet chevelle malibu\"  \n",
      "1          70          \\t\"buick skylark 320\"  \n",
      "2          70         \\t\"plymouth satellite\"  \n",
      "3          70              \\t\"amc rebel sst\"  \n",
      "4          70                \\t\"ford torino\"  \n"
     ]
    }
   ],
   "source": [
    "print(auto.head())"
   ]
  },
  {
   "cell_type": "markdown",
   "metadata": {},
   "source": [
    "Evalúa los datos para asegurar que todas las columnas numéricas son detectadas correctamente como tales por pandas. Si una columna se clasifica erróneamente como objeto, cámbiala a numérica."
   ]
  },
  {
   "cell_type": "code",
   "execution_count": 26,
   "metadata": {},
   "outputs": [
    {
     "name": "stdout",
     "output_type": "stream",
     "text": [
      "mpg             float64\n",
      "cylinders         int64\n",
      "displacement    float64\n",
      "horse_power     float64\n",
      "weight            int64\n",
      "acceleration    float64\n",
      "model_year        int64\n",
      "car_name         object\n",
      "dtype: object\n"
     ]
    }
   ],
   "source": [
    "print(auto.dtypes)"
   ]
  },
  {
   "cell_type": "code",
   "execution_count": 27,
   "metadata": {},
   "outputs": [
    {
     "name": "stdout",
     "output_type": "stream",
     "text": [
      "\n",
      "Tipos de datos después de la conversión:\n",
      "mpg             float64\n",
      "cylinders         int64\n",
      "displacement    float64\n",
      "horse_power     float64\n",
      "weight            int64\n",
      "acceleration    float64\n",
      "model_year        int64\n",
      "car_name         object\n",
      "dtype: object\n"
     ]
    }
   ],
   "source": [
    "for column in auto.columns:\n",
    "    if auto[column].dtype == 'object' and column != 'car_name':\n",
    "        # Intentar convertir a numérico, si falla, ignorar los errores\n",
    "        auto[column] = pd.to_numeric(auto[column], errors='coerce')\n",
    "\n",
    "# Evaluar los tipos de datos de las columnas después de la conversión\n",
    "print(\"\\nTipos de datos después de la conversión:\")\n",
    "print(auto.dtypes)"
   ]
  },
  {
   "cell_type": "markdown",
   "metadata": {},
   "source": [
    "¿Cuál es el año del modelo más reciente y el año del modelo más antiguo?"
   ]
  },
  {
   "cell_type": "code",
   "execution_count": 29,
   "metadata": {},
   "outputs": [
    {
     "name": "stdout",
     "output_type": "stream",
     "text": [
      "Oldest:  70\n",
      "Newest:  82\n"
     ]
    }
   ],
   "source": [
    "most_recent_year = auto['model_year'].max()\n",
    "oldest_year = auto['model_year'].min()\n",
    "\n",
    "print(\"Oldest: \", oldest_year)\n",
    "print(\"Newest: \", most_recent_year)"
   ]
  },
  {
   "cell_type": "markdown",
   "metadata": {},
   "source": [
    "Comprueba si faltan valores en el conjunto de datos y elimina todas las filas que contengan al menos un valor omitido."
   ]
  },
  {
   "cell_type": "code",
   "execution_count": 31,
   "metadata": {},
   "outputs": [
    {
     "name": "stdout",
     "output_type": "stream",
     "text": [
      "Valores faltantes por columna antes de la limpieza:\n",
      "mpg             0\n",
      "cylinders       0\n",
      "displacement    0\n",
      "horse_power     6\n",
      "weight          0\n",
      "acceleration    0\n",
      "model_year      0\n",
      "car_name        0\n",
      "dtype: int64\n",
      "\n",
      "Valores faltantes por columna después de la limpieza:\n",
      "mpg             0\n",
      "cylinders       0\n",
      "displacement    0\n",
      "horse_power     0\n",
      "weight          0\n",
      "acceleration    0\n",
      "model_year      0\n",
      "car_name        0\n",
      "dtype: int64\n",
      "\n",
      "Tamaño del DataFrame original: (392, 8)\n",
      "Tamaño del DataFrame limpiado: (392, 8)\n"
     ]
    }
   ],
   "source": [
    "missing_values = auto.isnull().sum()\n",
    "print(\"Valores faltantes por columna antes de la limpieza:\")\n",
    "print(missing_values)\n",
    "\n",
    "# Eliminar todas las filas que contengan al menos un valor omitido\n",
    "auto.dropna(axis=0, how=\"any\", inplace=True)\n",
    "\n",
    "# Comprobar nuevamente si faltan valores después de la eliminación\n",
    "missing_values_after = auto_cleaned.isnull().sum()\n",
    "print(\"\\nValores faltantes por columna después de la limpieza:\")\n",
    "print(missing_values_after)\n",
    "\n",
    "# Mostrar el tamaño del DataFrame antes y después de la limpieza\n",
    "print(\"\\nTamaño del DataFrame original:\", auto.shape)\n",
    "print(\"Tamaño del DataFrame limpiado:\", auto_cleaned.shape)"
   ]
  },
  {
   "cell_type": "markdown",
   "metadata": {},
   "source": [
    "Encuentra la tabla de frecuencias para la columna `cylinders` utilizando la función `value_counts()`. ¿Cuántos valores posibles de cilindros hay?"
   ]
  },
  {
   "cell_type": "code",
   "execution_count": 32,
   "metadata": {},
   "outputs": [
    {
     "name": "stdout",
     "output_type": "stream",
     "text": [
      "Tabla de frecuencias para la columna 'cylinders':\n",
      "cylinders\n",
      "4    199\n",
      "8    103\n",
      "6     83\n",
      "3      4\n",
      "5      3\n",
      "Name: count, dtype: int64\n",
      "\n",
      "Número de valores posibles de cilindros: 5\n"
     ]
    }
   ],
   "source": [
    "cylinder_counts = auto['cylinders'].value_counts()\n",
    "\n",
    "# Contar los valores posibles de cilindros\n",
    "unique_cylinders = cylinder_counts.size\n",
    "\n",
    "print(\"Tabla de frecuencias para la columna 'cylinders':\")\n",
    "print(cylinder_counts)\n",
    "print(\"\\nNúmero de valores posibles de cilindros:\", unique_cylinders)"
   ]
  },
  {
   "cell_type": "markdown",
   "metadata": {},
   "source": [
    "Queremos generar un modelo de regresión lineal que prediga el mpg. Para ello, en primer lugar, elimina la columna «car_name», ya que no contiene ningún dato cuantitativo. A continuación, separa el marco de datos en variables predictoras y de respuesta. Sepáralos en datos de train y de test, con el 80% de los datos en el conjunto de entrenamiento y el resto en el conjunto de prueba. \n",
    "\n",
    "Asigna los datos de entrenamiento del predictor y de la respuesta a `X_train` y `y_train` respectivamente. Del mismo modo, asigna los datos de prueba del predictor y de la respuesta a `X_test` y `y_test`."
   ]
  },
  {
   "cell_type": "code",
   "execution_count": 40,
   "metadata": {},
   "outputs": [
    {
     "name": "stdout",
     "output_type": "stream",
     "text": [
      "\n",
      "Intentando eliminar 'car_name' usando del:\n",
      "Error: 'car_name'\n"
     ]
    }
   ],
   "source": [
    "try:\n",
    "    print(\"\\nIntentando eliminar 'car_name' usando del:\")\n",
    "    auto2 = auto.copy()\n",
    "    del auto2['car_name']\n",
    "    print(auto2.columns)\n",
    "except KeyError as e:\n",
    "    print(f\"Error: {e}\")"
   ]
  },
  {
   "cell_type": "code",
   "execution_count": 41,
   "metadata": {},
   "outputs": [
    {
     "name": "stdout",
     "output_type": "stream",
     "text": [
      "Dimensiones de X_train: (313, 6)\n",
      "Dimensiones de X_test: (79, 6)\n",
      "Dimensiones de y_train: (313,)\n",
      "Dimensiones de y_test: (79,)\n"
     ]
    }
   ],
   "source": [
    "from sklearn.model_selection import train_test_split\n",
    "\n",
    "\n",
    "# Separar el marco de datos en variables predictoras (X) y de respuesta (y)\n",
    "X = auto.drop(columns=['mpg'])\n",
    "y = auto['mpg']\n",
    "\n",
    "# Separar los datos en conjuntos de entrenamiento y prueba (80% train, 20% test)\n",
    "X_train, X_test, y_train, y_test = train_test_split(X, y, test_size=0.2, random_state=42)\n",
    "\n",
    "# Mostrar las dimensiones de los conjuntos de entrenamiento y prueba\n",
    "print(\"Dimensiones de X_train:\", X_train.shape)\n",
    "print(\"Dimensiones de X_test:\", X_test.shape)\n",
    "print(\"Dimensiones de y_train:\", y_train.shape)\n",
    "print(\"Dimensiones de y_test:\", y_test.shape)"
   ]
  },
  {
   "cell_type": "markdown",
   "metadata": {},
   "source": [
    "Ahora vamos a procesar el conjunto de datos y realizar una regresión lineal sobre estos datos para predecir el mpg para cada vehículo. Inicializa el modelo en la celda de abajo."
   ]
  },
  {
   "cell_type": "code",
   "execution_count": 50,
   "metadata": {},
   "outputs": [],
   "source": [
    "from sklearn.metrics import mean_squared_error, r2_score\n",
    "import matplotlib.pyplot as plt\n",
    "model = LinearRegression()\n",
    "\n"
   ]
  },
  {
   "cell_type": "markdown",
   "metadata": {},
   "source": [
    "A continuación, ajusta el modelo en la celda inferior."
   ]
  },
  {
   "cell_type": "code",
   "execution_count": 51,
   "metadata": {},
   "outputs": [
    {
     "data": {
      "image/png": "[encoded data removed]",
      "text/plain": [
       "<Figure size 640x480 with 1 Axes>"
      ]
     },
     "metadata": {},
     "output_type": "display_data"
    }
   ],
   "source": [
    "# Separar los datos en conjuntos de entrenamiento y prueba (80% train, 20% test)\n",
    "X_train, X_test, y_train, y_test = train_test_split(X, y, test_size=0.2, random_state=42)\n",
    "# Ajustar el modelo a los datos de entrenamiento\n",
    "model.fit(X_train, y_train)\n",
    "\n",
    "# Realizar predicciones sobre los datos de prueba\n",
    "y_pred = model.predict(X_test)\n",
    "\n",
    "plt.scatter(y_test, y_pred)\n",
    "plt.xlabel(\"Valores Reales\")\n",
    "plt.ylabel(\"Predicciones\")\n",
    "plt.title(\"Comparación de Predicciones y Valores Reales\")\n",
    "plt.plot([y_test.min(), y_test.max()], [y_test.min(), y_test.max()], 'k--', lw=2)\n",
    "plt.show()"
   ]
  },
  {
   "cell_type": "markdown",
   "metadata": {},
   "source": [
    "# Reto 4 - Evaluar el modelo\n",
    "\n",
    "La puntuación r al cuadrado de un modelo nos indica cuánta variación explica el modelo. En un conjunto de datos típico, la mayoría de las observaciones difieren de la media. Cuando creamos un modelo, intentamos generar una ecuación que nos diga en qué medida cada observación difiere de la media. Obviamente, la gran mayoría de los modelos no son perfectos. Sólo pueden predecir una parte de la variación con respecto a la media, pero no toda. Atribuimos el resto de la diferencia entre el valor real y la media al error aleatorio. Nos gustaría que el error aleatorio explicara la menor parte posible de la variación. Por eso la puntuación r al cuadrado es una métrica importante.\n",
    "\n",
    "En la siguiente celda, calcula la puntuación r al cuadrado del modelo. Para ello, primero calcula los valores predichos y asígnalos a `y_pred`."
   ]
  },
  {
   "cell_type": "code",
   "execution_count": 48,
   "metadata": {},
   "outputs": [
    {
     "name": "stdout",
     "output_type": "stream",
     "text": [
      "Mean Squared Error: 10.502370329417325\n",
      "R-squared: 0.7942349075428586\n"
     ]
    }
   ],
   "source": [
    "# Evaluar el rendimiento del modelo\n",
    "mse = mean_squared_error(y_test, y_pred)\n",
    "r2 = r2_score(y_test, y_pred)\n",
    "\n",
    "print(\"Mean Squared Error:\", mse)\n",
    "print(\"R-squared:\", r2)"
   ]
  },
  {
   "cell_type": "markdown",
   "metadata": {},
   "source": [
    "#### Nuestro siguiente paso es evaluar el modelo utilizando los datos de prueba. Queremos asegurarnos de que nuestro modelo no se ajusta en exceso a los datos. Esto significa que nuestro modelo no será capaz de generalizar bien fuera de los datos de entrenamiento.\n",
    "\n",
    "En la celda siguiente, utiliza el modelo para generar los valores predichos para los datos de entrenamiento y asígnalos a `y_test_pred`. Calcula la puntuación r al cuadrado para los datos de prueba comparando los datos observados de `y_train` y los predichos de `y_test_pred`."
   ]
  },
  {
   "cell_type": "code",
   "execution_count": 52,
   "metadata": {},
   "outputs": [
    {
     "name": "stdout",
     "output_type": "stream",
     "text": [
      "R-squared para los datos de prueba: 0.7942349075428586\n",
      "R-squared para los datos de entrenamiento: 0.8107227953093896\n",
      "Mean Squared Error para los datos de prueba: 10.502370329417325\n"
     ]
    }
   ],
   "source": [
    "y_test_pred = model.predict(X_test)\n",
    "\n",
    "# Calcular la puntuación R-squared del modelo para los datos de prueba\n",
    "r2_test = r2_score(y_test, y_test_pred)\n",
    "\n",
    "# Mostrar la puntuación R-squared para los datos de prueba\n",
    "print(\"R-squared para los datos de prueba:\", r2_test)\n",
    "\n",
    "# Realizar predicciones sobre los datos de entrenamiento\n",
    "y_train_pred = model.predict(X_train)\n",
    "\n",
    "# Calcular la puntuación R-squared del modelo para los datos de entrenamiento\n",
    "r2_train = r2_score(y_train, y_train_pred)\n",
    "\n",
    "# Mostrar la puntuación R-squared para los datos de entrenamiento\n",
    "print(\"R-squared para los datos de entrenamiento:\", r2_train)\n",
    "\n",
    "# Evaluar el rendimiento del modelo con el error cuadrático medio\n",
    "mse_test = mean_squared_error(y_test, y_test_pred)\n",
    "print(\"Mean Squared Error para los datos de prueba:\", mse_test)\n"
   ]
  },
  {
   "cell_type": "markdown",
   "metadata": {},
   "source": [
    "# Reto 5 - Mejorar el ajuste del modelo\n",
    "\n",
    "Aunque la forma más común de mejorar el ajuste de un modelo es utilizando la regularización, hay otras formas más sencillas de mejorar el ajuste del modelo. La primera es crear un modelo más simple. La segunda es aumentar el tamaño de la muestra de entrenamiento.\n",
    "\n",
    "Empecemos con la opción más sencilla y aumentemos el tamaño de la muestra de entrenamiento al 90% de los datos. Cre una nueva división train-test y denomina a los nuevos predictores y variables de respuesta `X_entrenamiento09`, `X_prueba09`, `y_entrenamiento09`, `y_prueba09`."
   ]
  },
  {
   "cell_type": "code",
   "execution_count": 53,
   "metadata": {},
   "outputs": [],
   "source": [
    "# Crear una nueva división train-test con 90% de los datos para el entrenamiento y 10% para la prueba\n",
    "X_entrenamiento09, X_prueba09, y_entrenamiento09, y_prueba09 = train_test_split(X, y, test_size=0.1, random_state=42)"
   ]
  },
  {
   "cell_type": "markdown",
   "metadata": {},
   "source": [
    "Inicializa un nuevo modelo. Nombre este modelo `auto_model09`. Ajusta el modelo a los nuevos datos de muestra."
   ]
  },
  {
   "cell_type": "code",
   "execution_count": 54,
   "metadata": {},
   "outputs": [
    {
     "name": "stdout",
     "output_type": "stream",
     "text": [
      "R-squared para los datos de prueba: 0.8468911998183241\n",
      "R-squared para los datos de entrenamiento: 0.8047940166959004\n",
      "Mean Squared Error para los datos de prueba: 9.110087485479854\n",
      "Mean Squared Error para los datos de entrenamiento: 11.888676694697898\n"
     ]
    },
    {
     "data": {
      "image/png": "[encoded data removed]",
      "text/plain": [
       "<Figure size 640x480 with 1 Axes>"
      ]
     },
     "metadata": {},
     "output_type": "display_data"
    },
    {
     "data": {
      "image/png": "[encoded data removed]",
      "text/plain": [
       "<Figure size 640x480 with 1 Axes>"
      ]
     },
     "metadata": {},
     "output_type": "display_data"
    }
   ],
   "source": [
    "# Inicializar el modelo de regresión lineal\n",
    "auto_model09 = LinearRegression()\n",
    "\n",
    "# Ajustar el modelo a los datos de entrenamiento\n",
    "auto_model09.fit(X_entrenamiento09, y_entrenamiento09)\n",
    "\n",
    "# Realizar predicciones sobre los datos de prueba\n",
    "y_prueba09_pred = auto_model09.predict(X_prueba09)\n",
    "\n",
    "# Calcular la puntuación R-squared del modelo para los datos de prueba\n",
    "r2_test09 = r2_score(y_prueba09, y_prueba09_pred)\n",
    "\n",
    "# Mostrar la puntuación R-squared para los datos de prueba\n",
    "print(\"R-squared para los datos de prueba:\", r2_test09)\n",
    "\n",
    "# Realizar predicciones sobre los datos de entrenamiento\n",
    "y_entrenamiento09_pred = auto_model09.predict(X_entrenamiento09)\n",
    "\n",
    "# Calcular la puntuación R-squared del modelo para los datos de entrenamiento\n",
    "r2_train09 = r2_score(y_entrenamiento09, y_entrenamiento09_pred)\n",
    "\n",
    "# Mostrar la puntuación R-squared para los datos de entrenamiento\n",
    "print(\"R-squared para los datos de entrenamiento:\", r2_train09)\n",
    "\n",
    "# Evaluar el rendimiento del modelo con el error cuadrático medio\n",
    "mse_test09 = mean_squared_error(y_prueba09, y_prueba09_pred)\n",
    "print(\"Mean Squared Error para los datos de prueba:\", mse_test09)\n",
    "\n",
    "mse_train09 = mean_squared_error(y_entrenamiento09, y_entrenamiento09_pred)\n",
    "print(\"Mean Squared Error para los datos de entrenamiento:\", mse_train09)\n",
    "\n",
    "# Graficar los valores reales frente a las predicciones para los datos de prueba\n",
    "plt.scatter(y_prueba09, y_prueba09_pred)\n",
    "plt.xlabel(\"Valores Reales\")\n",
    "plt.ylabel(\"Predicciones\")\n",
    "plt.title(\"Comparación de Predicciones y Valores Reales (Datos de Prueba)\")\n",
    "plt.plot([y_prueba09.min(), y_prueba09.max()], [y_prueba09.min(), y_prueba09.max()], 'k--', lw=2)\n",
    "plt.show()\n",
    "\n",
    "# Graficar los valores reales frente a las predicciones para los datos de entrenamiento\n",
    "plt.scatter(y_entrenamiento09, y_entrenamiento09_pred)\n",
    "plt.xlabel(\"Valores Reales\")\n",
    "plt.ylabel(\"Predicciones\")\n",
    "plt.title(\"Comparación de Predicciones y Valores Reales (Datos de Entrenamiento)\")\n",
    "plt.plot([y_entrenamiento09.min(), y_entrenamiento09.max()], [y_entrenamiento09.min(), y_entrenamiento09.max()], 'k--', lw=2)\n",
    "plt.show()"
   ]
  },
  {
   "cell_type": "markdown",
   "metadata": {},
   "source": [
    "Calcula los valores predichos y la puntuación r al cuadrado para nuestro nuevo modelo y los nuevos datos de muestra."
   ]
  },
  {
   "cell_type": "code",
   "execution_count": 56,
   "metadata": {},
   "outputs": [
    {
     "name": "stdout",
     "output_type": "stream",
     "text": [
      "R-squared para los datos de prueba: 0.8468911998183241\n",
      "Mean Squared Error para los datos de prueba: 9.110087485479854\n"
     ]
    }
   ],
   "source": [
    "# Calcular la puntuación R-squared del modelo para los datos de prueba\n",
    "r2_test09 = r2_score(y_prueba09, y_prueba09_pred)\n",
    "\n",
    "# Mostrar la puntuación R-squared para los datos de prueba\n",
    "print(\"R-squared para los datos de prueba:\", r2_test09)\n",
    "\n",
    "# Realizar predicciones sobre los datos de entrenamiento\n",
    "y_entrenamiento09_pred = auto_model09.predict(X_entrenamiento09)\n",
    "\n",
    "# Calcular la puntuación R-squared del modelo para los datos de entrenamiento\n",
    "r2_train09 = r2_score(y_entrenamiento09, y_entrenamiento09_pred)\n",
    "\n",
    "\n",
    "\n",
    "# Evaluar el rendimiento del modelo con el error cuadrático medio\n",
    "mse_test09 = mean_squared_error(y_prueba09, y_prueba09_pred)\n",
    "print(\"Mean Squared Error para los datos de prueba:\", mse_test09)\n",
    "\n"
   ]
  },
  {
   "cell_type": "markdown",
   "metadata": {},
   "source": [
    "Calcula la puntuación r al cuadrado para el conjunto de prueba más pequeño. ¿Existe una mejora en la r al cuadrado de la prueba?"
   ]
  },
  {
   "cell_type": "code",
   "execution_count": 57,
   "metadata": {},
   "outputs": [
    {
     "name": "stdout",
     "output_type": "stream",
     "text": [
      "R-squared para los datos de entrenamiento: 0.8047940166959004\n",
      "Mean Squared Error para los datos de entrenamiento: 11.888676694697898\n"
     ]
    }
   ],
   "source": [
    "# Mostrar la puntuación R-squared para los datos de entrenamiento\n",
    "print(\"R-squared para los datos de entrenamiento:\", r2_train09)\n",
    "mse_train09 = mean_squared_error(y_entrenamiento09, y_entrenamiento09_pred)\n",
    "print(\"Mean Squared Error para los datos de entrenamiento:\", mse_train09)"
   ]
  },
  {
   "cell_type": "markdown",
   "metadata": {},
   "source": [
    "# Reto bonus 2 - Backward Elimination \n",
    "\n",
    "\n",
    "La principal forma de producir un modelo de regresión lineal más simple es reducir el número de variables utilizadas en el modelo. En scikit-learn, podemos hacer esto mediante el uso de la eliminación recursiva de características. Puedes leer más sobre RFE [aquí](https://scikit-learn.org/stable/modules/generated/sklearn.feature_selection.RFE.html).\n",
    "\n",
    "En la siguiente celda, vamos a importar RFE"
   ]
  },
  {
   "cell_type": "code",
   "execution_count": 58,
   "metadata": {},
   "outputs": [],
   "source": [
    "from sklearn.feature_selection import RFE"
   ]
  },
  {
   "cell_type": "markdown",
   "metadata": {},
   "source": [
    "Sigue la documentación e inicializa un modelo RFE utilizando el modelo de regresión lineal `auto_model`. Establece `n_features_to_select=3`."
   ]
  },
  {
   "cell_type": "code",
   "execution_count": 60,
   "metadata": {},
   "outputs": [],
   "source": [
    "\n",
    "auto_model = LinearRegression()\n",
    "\n",
    "rfe = RFE(estimator=auto_model, n_features_to_select=3)"
   ]
  },
  {
   "cell_type": "markdown",
   "metadata": {},
   "source": [
    "Ajusta el modelo e imprime la clasificación"
   ]
  },
  {
   "cell_type": "code",
   "execution_count": 61,
   "metadata": {},
   "outputs": [
    {
     "name": "stdout",
     "output_type": "stream",
     "text": [
      "Características seleccionadas: Index(['cylinders', 'acceleration', 'model_year'], dtype='object')\n",
      "Ranking de características: [1 2 4 3 1 1]\n"
     ]
    }
   ],
   "source": [
    "rfe.fit(X, y)\n",
    "\n",
    "# Mostrar las características seleccionadas\n",
    "print(\"Características seleccionadas:\", X.columns[rfe.support_])\n",
    "print(\"Ranking de características:\", rfe.ranking_)\n"
   ]
  },
  {
   "cell_type": "markdown",
   "metadata": {},
   "source": [
    "La importancia de las características se clasifica de la más importante (1) a la menos importante (4). Genera un modelo con las tres características más importantes. Las características corresponden a los nombres de las variables. Por ejemplo, la característica 1 es «cilindros» y la característica 2 es «desplazamiento».\n",
    "\n",
    "Realiza una división train-test en esta columna de datos reducida y llama a los datos divididos `X_train_reduced`, `X_test_reduced`, `y_test_reduced`, `y_train_reduced`. Utiliza una división del 80%."
   ]
  },
  {
   "cell_type": "code",
   "execution_count": 62,
   "metadata": {},
   "outputs": [],
   "source": [
    "selected_features = X.columns[rfe.support_]\n",
    "ranking = rfe.ranking_\n",
    "X_reduced = X[selected_features]\n",
    "X_train_reduced, X_test_reduced, y_train_reduced, y_test_reduced = train_test_split(X_reduced, y, test_size=0.2, random_state=42)\n"
   ]
  },
  {
   "cell_type": "markdown",
   "metadata": {},
   "source": [
    "Genera un nuevo modelo llamado `auto_model_reduced` y ajusta este modelo. A continuación, calcula la puntuación r al cuadrado del modelo. ¿Ha mejorado la puntuación r al cuadrado?"
   ]
  },
  {
   "cell_type": "code",
   "execution_count": 63,
   "metadata": {},
   "outputs": [
    {
     "name": "stdout",
     "output_type": "stream",
     "text": [
      "R-squared para los datos de prueba reducidos: 0.7149033079956759\n",
      "Mean Squared Error para los datos de prueba reducidos: 14.551501439656978\n"
     ]
    }
   ],
   "source": [
    "auto_model.fit(X_train_reduced, y_train_reduced)\n",
    "\n",
    "y_test_reduced_pred = auto_model.predict(X_test_reduced)\n",
    "\n",
    "\n",
    "r2_test_reduced = r2_score(y_test_reduced, y_test_reduced_pred)\n",
    "\n",
    "\n",
    "print(\"R-squared para los datos de prueba reducidos:\", r2_test_reduced)\n",
    "\n",
    "\n",
    "mse_test_reduced = mean_squared_error(y_test_reduced, y_test_reduced_pred)\n",
    "print(\"Mean Squared Error para los datos de prueba reducidos:\", mse_test_reduced)\n"
   ]
  },
  {
   "cell_type": "markdown",
   "metadata": {},
   "source": [
    "R ha bajado - empeora situacion \n",
    "MSE ha subido, - empeora la situacion\n"
   ]
  }
 ],
 "metadata": {
  "kernelspec": {
   "display_name": "Python 3 (ipykernel)",
   "language": "python",
   "name": "python3"
  },
  "language_info": {
   "codemirror_mode": {
    "name": "ipython",
    "version": 3
   },
   "file_extension": ".py",
   "mimetype": "text/x-python",
   "name": "python",
   "nbconvert_exporter": "python",
   "pygments_lexer": "ipython3",
   "version": "3.12.2"
  }
 },
 "nbformat": 4,
 "nbformat_minor": 2
}
